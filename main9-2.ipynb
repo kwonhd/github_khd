{
 "cells": [
  {
   "cell_type": "code",
   "execution_count": 2,
   "metadata": {},
   "outputs": [
    {
     "name": "stdout",
     "output_type": "stream",
     "text": [
      "작은 퐁에 큰 물고기\n",
      "좋은 약은 쓴 맛입니다\n",
      "고통이 없으면 얻는 것도 없다\n"
     ]
    }
   ],
   "source": [
    "from os import linesep\n",
    "import googletrans\n",
    "\n",
    "translator = googletrans.Translator()\n",
    "\n",
    "read_file_path = 'C:\\\\Users\\\\gureh\\\\this coding test\\\\2.파이썬 작품\\\\04.자동화\\\\영어문서한글번역\\\\영어파일.txt'\n",
    "\n",
    "with open(read_file_path, 'r') as f :\n",
    "    readLines = f.readlines()\n",
    "for lines in readLines:\n",
    "    result = translator.translate(lines, dest='ko')\n",
    "    print(result.text)\n"
   ]
  },
  {
   "cell_type": "code",
   "execution_count": 3,
   "metadata": {},
   "outputs": [
    {
     "name": "stdout",
     "output_type": "stream",
     "text": [
      "작은 퐁에 큰 물고기\n",
      "좋은 약은 쓴 맛입니다\n",
      "고통이 없으면 얻는 것도 없다\n"
     ]
    }
   ],
   "source": [
    "from os import linesep\n",
    "import googletrans\n",
    "\n",
    "translator = googletrans.Translator()\n",
    "\n",
    "read_file_path = 'C:\\\\Users\\\\gureh\\\\this coding test\\\\2.파이썬 작품\\\\04.자동화\\\\영어문서한글번역\\\\영어파일.txt'\n",
    "write_file_path = 'C:\\\\Users\\\\gureh\\\\this coding test\\\\2.파이썬 작품\\\\04.자동화\\\\영어문서한글번역\\\\한글파일.txt'\n",
    "\n",
    "with open(read_file_path, 'r') as f :\n",
    "    readLines = f.readlines()\n",
    "    \n",
    "for lines in readLines:\n",
    "    result = translator.translate(lines, dest='ko')\n",
    "    print(result.text)\n",
    "    with open(write_file_path,'a',encoding='UTF-8',) as f:\n",
    "        f.write(result.text+'\\n')"
   ]
  }
 ],
 "metadata": {
  "kernelspec": {
   "display_name": "Python 3",
   "language": "python",
   "name": "python3"
  },
  "language_info": {
   "codemirror_mode": {
    "name": "ipython",
    "version": 3
   },
   "file_extension": ".py",
   "mimetype": "text/x-python",
   "name": "python",
   "nbconvert_exporter": "python",
   "pygments_lexer": "ipython3",
   "version": "3.11.2"
  },
  "orig_nbformat": 4
 },
 "nbformat": 4,
 "nbformat_minor": 2
}
